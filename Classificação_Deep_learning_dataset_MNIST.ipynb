{
  "nbformat": 4,
  "nbformat_minor": 0,
  "metadata": {
    "colab": {
      "provenance": [],
      "toc_visible": true,
      "authorship_tag": "ABX9TyPCkbp+vC9Xea11IkwGWALs"
    },
    "kernelspec": {
      "name": "python3",
      "display_name": "Python 3"
    },
    "language_info": {
      "name": "python"
    }
  },
  "cells": [
    {
      "cell_type": "markdown",
      "source": [
        "#Imports"
      ],
      "metadata": {
        "id": "dcDNlMfh55-1"
      }
    },
    {
      "cell_type": "code",
      "source": [
        "import tensorflow as tf\n",
        "from tensorflow import keras\n",
        "from tensorflow.keras import layers"
      ],
      "metadata": {
        "id": "AVU9GVMakb6O"
      },
      "execution_count": null,
      "outputs": []
    },
    {
      "cell_type": "code",
      "source": [
        "import matplotlib.pyplot as plt\n",
        "import numpy as np"
      ],
      "metadata": {
        "id": "HQN9f7xLmt4C"
      },
      "execution_count": null,
      "outputs": []
    },
    {
      "cell_type": "markdown",
      "source": [
        "#Dataset"
      ],
      "metadata": {
        "id": "N_SfSHp158bO"
      }
    },
    {
      "cell_type": "code",
      "source": [
        "# Parametros do modelo\n",
        "num_classes = 10\n",
        "input_shape = (28, 28, 1)"
      ],
      "metadata": {
        "id": "Q9flao89PMGH"
      },
      "execution_count": null,
      "outputs": []
    },
    {
      "cell_type": "code",
      "source": [
        "# Baixando o Datasete e separando os dados em treino e teste\n",
        "(x_train, y_train), (x_test, y_test) = keras.datasets.mnist.load_data()\n",
        "assert x_train.shape == (60000, 28, 28)\n",
        "assert x_test.shape == (10000, 28, 28)\n",
        "assert y_train.shape == (60000,)\n",
        "assert y_test.shape == (10000,)"
      ],
      "metadata": {
        "id": "eHVxMczGkoW6"
      },
      "execution_count": null,
      "outputs": []
    },
    {
      "cell_type": "markdown",
      "source": [
        "#Explorando os dados"
      ],
      "metadata": {
        "id": "vm8piQQL5-lV"
      }
    },
    {
      "cell_type": "code",
      "execution_count": null,
      "metadata": {
        "colab": {
          "base_uri": "https://localhost:8080/"
        },
        "id": "8Fj9ucEujiUM",
        "outputId": "7bf86383-e124-4146-a294-00391d596b1e"
      },
      "outputs": [
        {
          "output_type": "execute_result",
          "data": {
            "text/plain": [
              "(60000, 28, 28)"
            ]
          },
          "metadata": {},
          "execution_count": 7
        }
      ],
      "source": [
        "len(x_train)\n",
        "x_train.shape\n"
      ]
    },
    {
      "cell_type": "code",
      "source": [
        "x_test.shape"
      ],
      "metadata": {
        "colab": {
          "base_uri": "https://localhost:8080/"
        },
        "id": "PNXV5ErvkcGV",
        "outputId": "66e46e56-879c-4a06-904b-43b966ee766b"
      },
      "execution_count": null,
      "outputs": [
        {
          "output_type": "execute_result",
          "data": {
            "text/plain": [
              "(10000, 28, 28)"
            ]
          },
          "metadata": {},
          "execution_count": 8
        }
      ]
    },
    {
      "cell_type": "code",
      "source": [
        "len(y_train)"
      ],
      "metadata": {
        "colab": {
          "base_uri": "https://localhost:8080/"
        },
        "id": "rlbWKi87mk-6",
        "outputId": "917e04fe-a28d-4df9-ac79-b3aec85f93a5"
      },
      "execution_count": null,
      "outputs": [
        {
          "output_type": "execute_result",
          "data": {
            "text/plain": [
              "60000"
            ]
          },
          "metadata": {},
          "execution_count": 9
        }
      ]
    },
    {
      "cell_type": "code",
      "source": [
        "len(x_test)"
      ],
      "metadata": {
        "colab": {
          "base_uri": "https://localhost:8080/"
        },
        "id": "2yZK9aEXmsvp",
        "outputId": "81948dff-8b64-4b06-ec20-cbb04e05db4a"
      },
      "execution_count": null,
      "outputs": [
        {
          "output_type": "execute_result",
          "data": {
            "text/plain": [
              "10000"
            ]
          },
          "metadata": {},
          "execution_count": 10
        }
      ]
    },
    {
      "cell_type": "code",
      "source": [
        "x_train.min()\n",
        "\n"
      ],
      "metadata": {
        "colab": {
          "base_uri": "https://localhost:8080/"
        },
        "id": "3uvXfpErmwTc",
        "outputId": "08ac9649-0440-40d7-b7f7-981bd4aae8e9"
      },
      "execution_count": null,
      "outputs": [
        {
          "output_type": "execute_result",
          "data": {
            "text/plain": [
              "0"
            ]
          },
          "metadata": {},
          "execution_count": 11
        }
      ]
    },
    {
      "cell_type": "code",
      "source": [
        "x_train.max()"
      ],
      "metadata": {
        "colab": {
          "base_uri": "https://localhost:8080/"
        },
        "id": "e1kipjdwOhIL",
        "outputId": "87c6fc13-2a6d-4e6a-d161-3e3b3cc2bfe0"
      },
      "execution_count": null,
      "outputs": [
        {
          "output_type": "execute_result",
          "data": {
            "text/plain": [
              "255"
            ]
          },
          "metadata": {},
          "execution_count": 12
        }
      ]
    },
    {
      "cell_type": "markdown",
      "source": [
        "# Visualizando os dados"
      ],
      "metadata": {
        "id": "CDHAKPvr6D7N"
      }
    },
    {
      "cell_type": "code",
      "source": [
        "total_de_classificacoes = 10\n",
        "nomes_de_classificacoes= ['0','1', '2',' 3','4','5','6','7','8','9']"
      ],
      "metadata": {
        "id": "cPsykWTw6DLi"
      },
      "execution_count": null,
      "outputs": []
    },
    {
      "cell_type": "code",
      "source": [
        "plt.imshow(x_train[0])\n",
        "plt.title(y_train[0])\n",
        "for imagem in range(10):\n",
        "  plt.subplot(2,5,imagem+1)\n",
        "  plt.imshow(x_train [imagem])\n",
        "  plt.title(nomes_de_classificacoes[y_train[imagem]])\n",
        "\n"
      ],
      "metadata": {
        "colab": {
          "base_uri": "https://localhost:8080/",
          "height": 425
        },
        "id": "GnHTlPPxm0g5",
        "outputId": "d6388f53-40ab-4c10-fa2a-a3a9434dad9d"
      },
      "execution_count": null,
      "outputs": [
        {
          "output_type": "stream",
          "name": "stderr",
          "text": [
            "<ipython-input-14-0e592c824d55>:4: MatplotlibDeprecationWarning: Auto-removal of overlapping axes is deprecated since 3.6 and will be removed two minor releases later; explicitly call ax.remove() as needed.\n",
            "  plt.subplot(2,5,imagem+1)\n"
          ]
        },
        {
          "output_type": "display_data",
          "data": {
            "text/plain": [
              "<Figure size 640x480 with 10 Axes>"
            ],
            "image/png": "[encoded data removed]"
          },
          "metadata": {}
        }
      ]
    },
    {
      "cell_type": "markdown",
      "source": [
        "# Criando o nosso modelo"
      ],
      "metadata": {
        "id": "9ftEVlEV6m61"
      }
    },
    {
      "cell_type": "code",
      "source": [
        "#Modelo duas camadas ou multicamada\n",
        "Modelo = keras.Sequential([keras.layers.Flatten(input_shape =(28,28)),\n",
        "                           keras.layers.Dense(256,activation = tf.nn.relu),\n",
        "                           keras.layers.Dense(10, activation=tf.nn.softmax)])\n",
        "Modelo.compile(optimizer= 'adam',loss='sparse_categorical_crossentropy')\n",
        "Modelo.fit(x_train,y_train)"
      ],
      "metadata": {
        "id": "hEDPSTGz3cxW",
        "colab": {
          "base_uri": "https://localhost:8080/"
        },
        "outputId": "fb70673b-43cb-4c2a-d7b3-3a3c71c239c8"
      },
      "execution_count": null,
      "outputs": [
        {
          "output_type": "stream",
          "name": "stdout",
          "text": [
            "1875/1875 [==============================] - 27s 14ms/step - loss: 2.7200\n"
          ]
        },
        {
          "output_type": "execute_result",
          "data": {
            "text/plain": [
              "<keras.src.callbacks.History at 0x7de118d570d0>"
            ]
          },
          "metadata": {},
          "execution_count": 15
        }
      ]
    },
    {
      "cell_type": "code",
      "source": [
        "# from scipy import ndimage - biblioteca para lidar com imagens e ajustar para preparar o dataset\n"
      ],
      "metadata": {
        "id": "0tIH6_Hm7_L0"
      },
      "execution_count": null,
      "outputs": []
    },
    {
      "cell_type": "markdown",
      "source": [
        "## Otimizando o modelo"
      ],
      "metadata": {
        "id": "4ESVYmRAbcSx"
      }
    },
    {
      "cell_type": "code",
      "source": [
        "x_train = x_train/float(255) # Normalização dos dados"
      ],
      "metadata": {
        "id": "PsOCwJTVc81o"
      },
      "execution_count": null,
      "outputs": []
    },
    {
      "cell_type": "markdown",
      "source": [
        "##Criação, compilação, treinamento e normalização do modelo"
      ],
      "metadata": {
        "id": "5YjeiX81sLV9"
      }
    },
    {
      "cell_type": "code",
      "source": [
        "\n",
        "Modelo = keras.Sequential([keras.layers.Flatten(input_shape =(28,28)),\n",
        "                           keras.layers.Dense(256,activation = tf.nn.relu),\n",
        "                           keras.layers.Dropout(0.5),\n",
        "                           keras.layers.Dense(10, activation=tf.nn.softmax)])\n",
        "adam = keras.optimizers.Adam(lr=0.002)\n",
        "callbacks = [keras.callbacks.EarlyStopping(monitor='val_loss'), keras.callbacks.ModelCheckpoint(filepath='Melhormodelo.hdf5',monitor='val_loss',save_best_only=True)]\n",
        "Modelo.compile(optimizer= adam,\n",
        "               loss='sparse_categorical_crossentropy',\n",
        "               metrics=['accuracy'])\n",
        "historico = Modelo.fit(x_train,y_train, batch_size = 500, epochs = 20, validation_split=0.2, callbacks = callbacks)\n"
      ],
      "metadata": {
        "colab": {
          "base_uri": "https://localhost:8080/"
        },
        "id": "xTmmUqeo8i4x",
        "outputId": "366e2215-7e00-4ffa-8b07-0c55332dead6"
      },
      "execution_count": null,
      "outputs": [
        {
          "output_type": "stream",
          "name": "stderr",
          "text": [
            "WARNING:absl:`lr` is deprecated in Keras optimizer, please use `learning_rate` or use the legacy optimizer, e.g.,tf.keras.optimizers.legacy.Adam.\n"
          ]
        },
        {
          "output_type": "stream",
          "name": "stdout",
          "text": [
            "Epoch 1/20\n",
            "96/96 [==============================] - 3s 20ms/step - loss: 0.6602 - accuracy: 0.8046 - val_loss: 0.2805 - val_accuracy: 0.9225\n",
            "Epoch 2/20\n",
            " 9/96 [=>............................] - ETA: 1s - loss: 0.3517 - accuracy: 0.9002"
          ]
        },
        {
          "output_type": "stream",
          "name": "stderr",
          "text": [
            "/usr/local/lib/python3.10/dist-packages/keras/src/engine/training.py:3079: UserWarning: You are saving your model as an HDF5 file via `model.save()`. This file format is considered legacy. We recommend using instead the native Keras format, e.g. `model.save('my_model.keras')`.\n",
            "  saving_api.save_model(\n"
          ]
        },
        {
          "output_type": "stream",
          "name": "stdout",
          "text": [
            "96/96 [==============================] - 2s 26ms/step - loss: 0.3103 - accuracy: 0.9109 - val_loss: 0.2091 - val_accuracy: 0.9425\n",
            "Epoch 3/20\n",
            "96/96 [==============================] - 3s 26ms/step - loss: 0.2410 - accuracy: 0.9310 - val_loss: 0.1732 - val_accuracy: 0.9513\n",
            "Epoch 4/20\n",
            "96/96 [==============================] - 2s 19ms/step - loss: 0.2085 - accuracy: 0.9397 - val_loss: 0.1501 - val_accuracy: 0.9578\n",
            "Epoch 5/20\n",
            "96/96 [==============================] - 2s 17ms/step - loss: 0.1806 - accuracy: 0.9479 - val_loss: 0.1351 - val_accuracy: 0.9600\n",
            "Epoch 6/20\n",
            "96/96 [==============================] - 2s 19ms/step - loss: 0.1634 - accuracy: 0.9538 - val_loss: 0.1236 - val_accuracy: 0.9639\n",
            "Epoch 7/20\n",
            "96/96 [==============================] - 2s 19ms/step - loss: 0.1474 - accuracy: 0.9573 - val_loss: 0.1154 - val_accuracy: 0.9663\n",
            "Epoch 8/20\n",
            "96/96 [==============================] - 2s 18ms/step - loss: 0.1356 - accuracy: 0.9608 - val_loss: 0.1100 - val_accuracy: 0.9671\n",
            "Epoch 9/20\n",
            "96/96 [==============================] - 2s 21ms/step - loss: 0.1251 - accuracy: 0.9631 - val_loss: 0.1019 - val_accuracy: 0.9699\n",
            "Epoch 10/20\n",
            "96/96 [==============================] - 3s 27ms/step - loss: 0.1145 - accuracy: 0.9666 - val_loss: 0.0961 - val_accuracy: 0.9715\n",
            "Epoch 11/20\n",
            "96/96 [==============================] - 2s 20ms/step - loss: 0.1077 - accuracy: 0.9672 - val_loss: 0.0940 - val_accuracy: 0.9718\n",
            "Epoch 12/20\n",
            "96/96 [==============================] - 2s 17ms/step - loss: 0.0995 - accuracy: 0.9704 - val_loss: 0.0907 - val_accuracy: 0.9727\n",
            "Epoch 13/20\n",
            "96/96 [==============================] - 2s 17ms/step - loss: 0.0957 - accuracy: 0.9714 - val_loss: 0.0862 - val_accuracy: 0.9736\n",
            "Epoch 14/20\n",
            "96/96 [==============================] - 2s 17ms/step - loss: 0.0888 - accuracy: 0.9738 - val_loss: 0.0851 - val_accuracy: 0.9748\n",
            "Epoch 15/20\n",
            "96/96 [==============================] - 2s 19ms/step - loss: 0.0851 - accuracy: 0.9743 - val_loss: 0.0816 - val_accuracy: 0.9756\n",
            "Epoch 16/20\n",
            "96/96 [==============================] - 2s 17ms/step - loss: 0.0793 - accuracy: 0.9762 - val_loss: 0.0799 - val_accuracy: 0.9758\n",
            "Epoch 17/20\n",
            "96/96 [==============================] - 2s 24ms/step - loss: 0.0770 - accuracy: 0.9767 - val_loss: 0.0783 - val_accuracy: 0.9755\n",
            "Epoch 18/20\n",
            "96/96 [==============================] - 3s 28ms/step - loss: 0.0723 - accuracy: 0.9784 - val_loss: 0.0775 - val_accuracy: 0.9757\n",
            "Epoch 19/20\n",
            "96/96 [==============================] - 2s 17ms/step - loss: 0.0689 - accuracy: 0.9795 - val_loss: 0.0759 - val_accuracy: 0.9769\n",
            "Epoch 20/20\n",
            "96/96 [==============================] - 2s 19ms/step - loss: 0.0678 - accuracy: 0.9787 - val_loss: 0.0742 - val_accuracy: 0.9772\n"
          ]
        }
      ]
    },
    {
      "cell_type": "code",
      "source": [
        "Modelo.summary()"
      ],
      "metadata": {
        "colab": {
          "base_uri": "https://localhost:8080/"
        },
        "id": "u9iS5DWTUhx0",
        "outputId": "5c48a6c2-a321-4e1c-bfd6-4b283364e514"
      },
      "execution_count": null,
      "outputs": [
        {
          "output_type": "stream",
          "name": "stdout",
          "text": [
            "Model: \"sequential_1\"\n",
            "_________________________________________________________________\n",
            " Layer (type)                Output Shape              Param #   \n",
            "=================================================================\n",
            " flatten_1 (Flatten)         (None, 784)               0         \n",
            "                                                                 \n",
            " dense_2 (Dense)             (None, 256)               200960    \n",
            "                                                                 \n",
            " dropout (Dropout)           (None, 256)               0         \n",
            "                                                                 \n",
            " dense_3 (Dense)             (None, 10)                2570      \n",
            "                                                                 \n",
            "=================================================================\n",
            "Total params: 203530 (795.04 KB)\n",
            "Trainable params: 203530 (795.04 KB)\n",
            "Non-trainable params: 0 (0.00 Byte)\n",
            "_________________________________________________________________\n"
          ]
        }
      ]
    },
    {
      "cell_type": "markdown",
      "source": [
        "## Entendendo o modelo"
      ],
      "metadata": {
        "id": "YXeVe-JM2OOn"
      }
    },
    {
      "cell_type": "code",
      "source": [
        "Pesos_camada_dense = Modelo.layers[1].get_weights()[0]"
      ],
      "metadata": {
        "id": "XHJGxN9Sx0F1"
      },
      "execution_count": null,
      "outputs": []
    },
    {
      "cell_type": "code",
      "source": [
        "Pesos_camada_dense.shape"
      ],
      "metadata": {
        "id": "3RkakZeq0AfV",
        "outputId": "23222bc3-4887-4879-c760-2b91d8624d9f",
        "colab": {
          "base_uri": "https://localhost:8080/"
        }
      },
      "execution_count": null,
      "outputs": [
        {
          "output_type": "execute_result",
          "data": {
            "text/plain": [
              "(784, 256)"
            ]
          },
          "metadata": {},
          "execution_count": 21
        }
      ]
    },
    {
      "cell_type": "code",
      "source": [
        "Modelo.layers[1].get_weights()"
      ],
      "metadata": {
        "id": "FT3hM9A201DN"
      },
      "execution_count": null,
      "outputs": []
    },
    {
      "cell_type": "code",
      "source": [
        "Modelo.get_config()"
      ],
      "metadata": {
        "id": "I4nukJoH2vc4"
      },
      "execution_count": null,
      "outputs": []
    },
    {
      "cell_type": "code",
      "source": [
        "plt.plot(historico.history['accuracy'])\n",
        "plt.plot(historico.history['val_accuracy'])\n",
        "plt.title('Acurácia por épocas')\n",
        "plt.xlabel('Épocas')\n",
        "plt.ylabel('Acurácia')\n",
        "plt.legend(['treino','validação'])"
      ],
      "metadata": {
        "id": "ewZ3lF241V0l",
        "colab": {
          "base_uri": "https://localhost:8080/",
          "height": 491
        },
        "outputId": "23fc6cfd-e943-43e8-acf4-72986f7b15f5"
      },
      "execution_count": null,
      "outputs": [
        {
          "output_type": "execute_result",
          "data": {
            "text/plain": [
              "<matplotlib.legend.Legend at 0x7de11d4f0f70>"
            ]
          },
          "metadata": {},
          "execution_count": 55
        },
        {
          "output_type": "display_data",
          "data": {
            "text/plain": [
              "<Figure size 640x480 with 1 Axes>"
            ],
            "image/png": "[encoded data removed]"
          },
          "metadata": {}
        }
      ]
    },
    {
      "cell_type": "markdown",
      "source": [
        "##Salvando o modelo treinado"
      ],
      "metadata": {
        "id": "UaH69NZWsTmK"
      }
    },
    {
      "cell_type": "code",
      "source": [
        "\n",
        "from tensorflow.keras.models import load_model\n",
        "\n",
        "Modelo.save('modelo.h5')\n",
        "Modelo_salvo = load_model('modelo.h5')"
      ],
      "metadata": {
        "id": "JfAyrCmDpJcu"
      },
      "execution_count": null,
      "outputs": []
    },
    {
      "cell_type": "markdown",
      "source": [
        "## Plotando os dados de acurácia e perda por época"
      ],
      "metadata": {
        "id": "7pDozyjVsYu2"
      }
    },
    {
      "cell_type": "code",
      "source": [
        "plt.plot(historico.history['accuracy'])\n",
        "plt.plot(historico.history['val_accuracy'])\n",
        "plt.title('Acurácia por épocas')\n",
        "plt.xlabel('Épocas')\n",
        "plt.ylabel('Acurácia')\n",
        "plt.legend(['treino','validação'])\n"
      ],
      "metadata": {
        "id": "gygwX54yhk1T",
        "colab": {
          "base_uri": "https://localhost:8080/",
          "height": 491
        },
        "outputId": "22e51906-1496-49c0-831f-fe279181e458"
      },
      "execution_count": null,
      "outputs": [
        {
          "output_type": "execute_result",
          "data": {
            "text/plain": [
              "<matplotlib.legend.Legend at 0x7de11e5abbe0>"
            ]
          },
          "metadata": {},
          "execution_count": 57
        },
        {
          "output_type": "display_data",
          "data": {
            "text/plain": [
              "<Figure size 640x480 with 1 Axes>"
            ],
            "image/png": "[encoded data removed]"
          },
          "metadata": {}
        }
      ]
    },
    {
      "cell_type": "code",
      "source": [
        "#Adicionar camadas ocultas não necessariamente melhoram o modelo\n",
        "#Modelo = keras.Sequential([keras.layers.Flatten(input_shape =(28,28)), keras.layers.Dense(256,activation = tensorflow.nn.relu),keras.layers.Dense(24, activation=tensorflow.nn.relu), keras.layers.Dense(10, activation=tensorflow.nn.softmax)])\n",
        "#Modelo.compile(optimizer= 'adam',loss='sparse_categorical_crossentropy')\n",
        "#Modelo.fit(imagens_treino,identificacoes_treino)"
      ],
      "metadata": {
        "id": "TAw2W0JjcoSZ"
      },
      "execution_count": null,
      "outputs": []
    },
    {
      "cell_type": "code",
      "source": [
        "plt.plot(historico.history['loss'])\n",
        "plt.plot(historico.history['val_loss'])\n",
        "plt.title('Perda por épocas')\n",
        "plt.xlabel('Épocas')\n",
        "plt.ylabel('Perda')\n",
        "plt.legend(['treino','validação'])"
      ],
      "metadata": {
        "id": "28Ae51xfmXW4",
        "colab": {
          "base_uri": "https://localhost:8080/",
          "height": 491
        },
        "outputId": "683fea7f-4080-4256-9dea-c30806edc705"
      },
      "execution_count": null,
      "outputs": [
        {
          "output_type": "execute_result",
          "data": {
            "text/plain": [
              "<matplotlib.legend.Legend at 0x7de1a6120490>"
            ]
          },
          "metadata": {},
          "execution_count": 58
        },
        {
          "output_type": "display_data",
          "data": {
            "text/plain": [
              "<Figure size 640x480 with 1 Axes>"
            ],
            "image/png": "[encoded data removed]"
          },
          "metadata": {}
        }
      ]
    },
    {
      "cell_type": "markdown",
      "source": [
        "#Testando o modelo"
      ],
      "metadata": {
        "id": "Dlf8CAWjfxYc"
      }
    },
    {
      "cell_type": "code",
      "source": [
        "testes= Modelo.predict(x_test)\n",
        "print('resultado teste:', np.argmax(testes[1]))\n",
        "print('número da imagem de teste', y_test[1])\n"
      ],
      "metadata": {
        "id": "8rAB8HX0druk",
        "colab": {
          "base_uri": "https://localhost:8080/"
        },
        "outputId": "d60f2a83-552d-4871-c24a-3832849b3ec5"
      },
      "execution_count": null,
      "outputs": [
        {
          "output_type": "stream",
          "name": "stdout",
          "text": [
            "313/313 [==============================] - 1s 3ms/step\n",
            "resultado teste: 2\n",
            "número da imagem de teste 2\n"
          ]
        }
      ]
    },
    {
      "cell_type": "code",
      "source": [
        "#Avaliação\n",
        "perda_teste, acuracia_teste = Modelo.evaluate(x_test,y_test)\n",
        "print('Perda do teste:', perda_teste, 'Acurácia do teste:', acuracia_teste)"
      ],
      "metadata": {
        "id": "vQVPKz2vf-Fa",
        "colab": {
          "base_uri": "https://localhost:8080/"
        },
        "outputId": "5c54912e-ef3a-4a75-a846-1943fe1f21b2"
      },
      "execution_count": null,
      "outputs": [
        {
          "output_type": "stream",
          "name": "stdout",
          "text": [
            "313/313 [==============================] - 1s 4ms/step - loss: 11.0828 - accuracy: 0.9789\n",
            "Perda do teste: 11.082792282104492 Acurácia do teste: 0.9789000153541565\n"
          ]
        }
      ]
    },
    {
      "cell_type": "code",
      "source": [
        "testes_modelo_salvo = Modelo_salvo.predict(x_test)\n",
        "print('resultado teste modelo salvo:', np.argmax(testes_modelo_salvo[1]))\n",
        "print('número da imagem de teste:', y_test[1])"
      ],
      "metadata": {
        "id": "Wp2V6u7FgpGr",
        "colab": {
          "base_uri": "https://localhost:8080/"
        },
        "outputId": "affeabe1-34a3-4876-b323-e157ae349b92"
      },
      "execution_count": null,
      "outputs": [
        {
          "output_type": "stream",
          "name": "stdout",
          "text": [
            "313/313 [==============================] - 1s 2ms/step\n",
            "resultado teste modelo salvo: 2\n",
            "número da imagem de teste: 2\n"
          ]
        }
      ]
    },
    {
      "cell_type": "markdown",
      "source": [
        "#Avaliando o modelo"
      ],
      "metadata": {
        "id": "8HXOyys0svgI"
      }
    },
    {
      "cell_type": "code",
      "source": [
        "perda_teste, acuracia_teste = Modelo_salvo.evaluate(x_test, y_test)\n",
        "print('Perda do teste:', perda_teste)\n",
        "print('Acurácia do teste:', acuracia_teste)"
      ],
      "metadata": {
        "id": "ilFJswXLpkhy",
        "colab": {
          "base_uri": "https://localhost:8080/"
        },
        "outputId": "16a675e4-89fa-4a41-ec65-e4327740d8c0"
      },
      "execution_count": null,
      "outputs": [
        {
          "output_type": "stream",
          "name": "stdout",
          "text": [
            "313/313 [==============================] - 1s 2ms/step - loss: 11.0828 - accuracy: 0.9789\n",
            "Perda do teste: 11.082792282104492\n",
            "Acurácia do teste: 0.9789000153541565\n"
          ]
        }
      ]
    },
    {
      "cell_type": "code",
      "source": [],
      "metadata": {
        "id": "YNfSOcrKpwIW"
      },
      "execution_count": null,
      "outputs": []
    }
  ]
}